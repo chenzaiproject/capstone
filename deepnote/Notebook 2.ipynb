{"cells":[{"cellId":"c16511cbfdae47399e31d7865b18e67b","cell_type":"code","metadata":{"cell_id":"c16511cbfdae47399e31d7865b18e67b","deepnote_cell_type":"code"},"source":"","block_group":"c16511cbfdae47399e31d7865b18e67b","execution_count":null,"outputs":[],"outputs_reference":null,"content_dependencies":null}],
        "metadata": {"deepnote_notebook_id":"1d9778f80fec41ac93276cb20c04d9de"},
        "nbformat": "4",
        "nbformat_minor": "0",
        "version": "0"
      }